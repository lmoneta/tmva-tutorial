{
 "cells": [
  {
   "cell_type": "markdown",
   "id": "3a6db56f",
   "metadata": {},
   "source": [
    "## Example of ONNX Parser\n",
    "\n",
    "notebook derived from tutorial [TMVA_SOFIE_ONNX.C](https://root.cern.ch/doc/master/TMVA__SOFIE__ONNX_8C.html)"
   ]
  },
  {
   "cell_type": "code",
   "execution_count": null,
   "id": "85ff486d",
   "metadata": {},
   "outputs": [],
   "source": [
    "using namespace TMVA::Experimental;"
   ]
  },
  {
   "cell_type": "code",
   "execution_count": null,
   "id": "22edc25f",
   "metadata": {},
   "outputs": [],
   "source": [
    "std::string modelFile = \"Linear_event.onnx\"\n",
    "//std::string modelFile = \"Higgs_model.onnx\""
   ]
  },
  {
   "cell_type": "markdown",
   "id": "aeda0af4",
   "metadata": {},
   "source": [
    "#### 1.  Create ONNX parser"
   ]
  },
  {
   "cell_type": "code",
   "execution_count": null,
   "id": "f2be3fdd",
   "metadata": {},
   "outputs": [],
   "source": [
    " SOFIE::RModelParser_ONNX parser;"
   ]
  },
  {
   "cell_type": "markdown",
   "id": "c921c8a8",
   "metadata": {},
   "source": [
    "#### 2.  Parse input file and create RModel "
   ]
  },
  {
   "cell_type": "code",
   "execution_count": null,
   "id": "d3be2ecb",
   "metadata": {},
   "outputs": [],
   "source": [
    "SOFIE::RModel model = parser.Parse(modelFile);"
   ]
  },
  {
   "cell_type": "markdown",
   "id": "fa278bc4",
   "metadata": {},
   "source": [
    "#### 3. Generate the inference code"
   ]
  },
  {
   "cell_type": "code",
   "execution_count": null,
   "id": "355479b5",
   "metadata": {},
   "outputs": [],
   "source": [
    "model.Generate();"
   ]
  },
  {
   "cell_type": "code",
   "execution_count": null,
   "id": "ab81df29",
   "metadata": {},
   "outputs": [],
   "source": [
    "model.PrintGenerated();"
   ]
  },
  {
   "cell_type": "markdown",
   "id": "c1a4d3e5",
   "metadata": {},
   "source": [
    "#### 4. Save inference code in a given header file   \n",
    "\n",
    "This function also save the network weights in a data file in a simple text format "
   ]
  },
  {
   "cell_type": "code",
   "execution_count": null,
   "id": "d568d8e1",
   "metadata": {},
   "outputs": [],
   "source": [
    "model.OutputGenerated(/* \"Linear_event.hxx\" */ );"
   ]
  },
  {
   "cell_type": "markdown",
   "id": "d513d9b7",
   "metadata": {},
   "source": [
    "## Compile and use generated code\n",
    "\n",
    "use ROOT Cling to compile the generated header file"
   ]
  },
  {
   "cell_type": "code",
   "execution_count": null,
   "id": "8b0ecfa2",
   "metadata": {},
   "outputs": [],
   "source": [
    "gInterpreter->Declare(\"#include \\\"Linear_event.hxx\\\"\");"
   ]
  },
  {
   "cell_type": "markdown",
   "id": "c79bd9f1",
   "metadata": {},
   "source": [
    "### Model prediction "
   ]
  },
  {
   "cell_type": "code",
   "execution_count": null,
   "id": "04a9540d",
   "metadata": {},
   "outputs": [],
   "source": [
    "TMVA_SOFIE_Linear_event::Session session;"
   ]
  },
  {
   "cell_type": "code",
   "execution_count": null,
   "id": "031b0515",
   "metadata": {},
   "outputs": [],
   "source": [
    "model.PrintRequiredInputTensors();"
   ]
  },
  {
   "cell_type": "code",
   "execution_count": null,
   "id": "8459c17d",
   "metadata": {},
   "outputs": [],
   "source": [
    "std::vector<float> x(100,1);"
   ]
  },
  {
   "cell_type": "code",
   "execution_count": null,
   "id": "3794358f",
   "metadata": {},
   "outputs": [],
   "source": [
    "auto y = session.infer(x.data());"
   ]
  },
  {
   "cell_type": "code",
   "execution_count": null,
   "id": "d0ff9646",
   "metadata": {},
   "outputs": [],
   "source": [
    "y\n"
   ]
  }
 ],
 "metadata": {
  "kernelspec": {
   "display_name": "ROOT C++",
   "language": "c++",
   "name": "root"
  },
  "language_info": {
   "codemirror_mode": "text/x-c++src",
   "file_extension": ".C",
   "mimetype": " text/x-c++src",
   "name": "c++"
  }
 },
 "nbformat": 4,
 "nbformat_minor": 5
}
