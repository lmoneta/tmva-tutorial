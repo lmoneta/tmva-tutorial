{
 "cells": [
  {
   "cell_type": "markdown",
   "id": "bdae584a",
   "metadata": {},
   "source": [
    "### Example on RSofieReader"
   ]
  },
  {
   "cell_type": "code",
   "execution_count": 1,
   "id": "a45563b8",
   "metadata": {},
   "outputs": [],
   "source": [
    "using namespace TMVA::Experimental;"
   ]
  },
  {
   "cell_type": "code",
   "execution_count": 2,
   "id": "1b962bc3",
   "metadata": {},
   "outputs": [
    {
     "name": "stdout",
     "output_type": "stream",
     "text": [
      "Keras Version: 2.9.0\n",
      "Model has not a defined batch size, assume is 1 - input shape for tensor dense_input : { 1 , 7 }\n"
     ]
    }
   ],
   "source": [
    "RSofieReader model(\"Higgs_trained_model.h5\");"
   ]
  },
  {
   "cell_type": "code",
   "execution_count": 3,
   "id": "ee7d0351",
   "metadata": {},
   "outputs": [
    {
     "name": "stdout",
     "output_type": "stream",
     "text": [
      "Event prediction = 0.739671  0.26728\n"
     ]
    }
   ],
   "source": [
    "// for debugging\n",
    " \n",
    "// the input shape for this model is a tensor with shape (1,7)\n",
    "\n",
    "std::vector<float> input = {1.35376, 0.9795631, 0.97807616, 0.92000484, 0.72165745, 0.98875093, 0.87667835 };\n",
    "\n",
    "// predict model on a single event (takes a std::vector<float>)\n",
    "\n",
    "auto output = model.Compute(input);\n",
    "\n",
    "std::cout << \"Event prediction = \" << output[0] << \"  \" << output[1] << std::endl;"
   ]
  },
  {
   "cell_type": "code",
   "execution_count": 4,
   "id": "1400e6c8",
   "metadata": {},
   "outputs": [],
   "source": [
    "// predict model now on a input file using RDataFrame\n",
    "\n",
    "std::string inputFileName = \"Higgs_data.root\";\n",
    "std::string inputFile = \"http://root.cern.ch/files/\" + inputFileName;\n"
   ]
  },
  {
   "cell_type": "code",
   "execution_count": 5,
   "id": "86b9803e",
   "metadata": {},
   "outputs": [],
   "source": [
    " ROOT::RDataFrame df1(\"sig_tree\", inputFile);\n",
    "\n",
    "auto h1 = df1.Define(\"DNN_Values\", Compute<7, float>(model),\n",
    "                            {\"m_jj\", \"m_jjj\", \"m_lv\", \"m_jlv\", \"m_bb\", \"m_wbb\", \"m_wwbb\"})\n",
    "    .Define(\"y_sig\",\"DNN_Values[0]\")            \n",
    "    .Histo1D({\"h_sig\", \"\", 100, 0, 1}, \"y_sig\");"
   ]
  },
  {
   "cell_type": "code",
   "execution_count": 6,
   "id": "1e1cf4c0",
   "metadata": {},
   "outputs": [],
   "source": [
    "ROOT::RDataFrame df2(\"bkg_tree\", inputFile);\n",
    "   auto h2 = df2.Define(\"DNN_Values\", Compute<7, float>(model),\n",
    "                            {\"m_jj\", \"m_jjj\", \"m_lv\", \"m_jlv\", \"m_bb\", \"m_wbb\", \"m_wwbb\"})\n",
    "       .Define(\"y_bkg\",\"DNN_Values[0]\")           \n",
    "       .Histo1D({\"h_bkg\", \"\", 100, 0, 1}, \"y_bkg\");"
   ]
  },
  {
   "cell_type": "code",
   "execution_count": 9,
   "id": "bd57dea2",
   "metadata": {},
   "outputs": [],
   "source": [
    "h1->SetLineColor(kRed);\n",
    "h2->SetLineColor(kBlue);\n",
    "\n",
    "auto c1 = new TCanvas();\n",
    "gStyle->SetOptStat(0);\n",
    "\n",
    "h1->DrawClone();\n",
    "h2->DrawClone(\"SAME\");\n",
    "c1->BuildLegend();\n"
   ]
  },
  {
   "cell_type": "code",
   "execution_count": 10,
   "id": "ae1ec8c7",
   "metadata": {
    "scrolled": true
   },
   "outputs": [
    {
     "data": {
      "image/png": "[encoded data removed]",
      "text/plain": [
       "<IPython.core.display.Image object>"
      ]
     },
     "metadata": {},
     "output_type": "display_data"
    }
   ],
   "source": [
    "c1->Draw();"
   ]
  },
  {
   "cell_type": "code",
   "execution_count": null,
   "id": "51ac7435",
   "metadata": {},
   "outputs": [],
   "source": []
  }
 ],
 "metadata": {
  "kernelspec": {
   "display_name": "ROOT C++",
   "language": "c++",
   "name": "root"
  },
  "language_info": {
   "codemirror_mode": "text/x-c++src",
   "file_extension": ".C",
   "mimetype": " text/x-c++src",
   "name": "c++"
  }
 },
 "nbformat": 4,
 "nbformat_minor": 5
}
