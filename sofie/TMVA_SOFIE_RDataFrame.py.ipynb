{
 "cells": [
  {
   "cell_type": "markdown",
   "id": "5082e0fa",
   "metadata": {},
   "source": [
    "## Using SOFIE with RDataFrame in Python"
   ]
  },
  {
   "cell_type": "code",
   "execution_count": 1,
   "id": "9d24c8ff",
   "metadata": {},
   "outputs": [
    {
     "name": "stdout",
     "output_type": "stream",
     "text": [
      "Welcome to JupyROOT 6.27/01\n"
     ]
    }
   ],
   "source": [
    "import ROOT"
   ]
  },
  {
   "cell_type": "code",
   "execution_count": 2,
   "id": "47c104c1",
   "metadata": {},
   "outputs": [],
   "source": [
    "modelFile = \"Higgs_trained_model.h5\"\n",
    "if (ROOT.gSystem.AccessPathName(modelFile)) :\n",
    "    ROOT.Info(\"TMVA_SOFIE_RDataFrame\",\"You need to run TMVA_Higgs_Classification.C to generate the Keras trained model\")\n",
    "    exit()\n"
   ]
  },
  {
   "cell_type": "markdown",
   "id": "e23de980",
   "metadata": {},
   "source": [
    "### Parse input file (directly from Keras)\n",
    "\n",
    "Parse the input file using the direct Keras to RModel converter"
   ]
  },
  {
   "cell_type": "code",
   "execution_count": 3,
   "id": "e67def72",
   "metadata": {},
   "outputs": [
    {
     "name": "stdout",
     "output_type": "stream",
     "text": [
      "Keras Version: 2.8.0\n",
      "Model has not a defined batch size, assume is 1 - input shape : { 1 , 7 }\n"
     ]
    }
   ],
   "source": [
    "# parse the input Keras model into RModel object\n",
    "model = ROOT.TMVA.Experimental.SOFIE.PyKeras.Parse(modelFile)"
   ]
  },
  {
   "cell_type": "code",
   "execution_count": 4,
   "id": "61036208",
   "metadata": {},
   "outputs": [
    {
     "name": "stdout",
     "output_type": "stream",
     "text": [
      "//Code generated automatically by TMVA for Inference of Model file [Higgs_trained_model.h5] at [Mon Apr  4 10:31:01 2022] \n",
      "#include<algorithm>\n",
      "#include<cmath>\n",
      "#include<vector>\n",
      "#include \"TMVA/SOFIE_common.hxx\"\n",
      "#include <fstream>\n",
      "\n",
      "namespace TMVA_SOFIE_Higgs_trained_model{\n",
      "namespace BLAS{\n",
      "\textern \"C\" void sgemv_(const char * trans, const int * m, const int * n, const float * alpha, const float * A,\n",
      "\t                       const int * lda, const float * X, const int * incx, const float * beta, const float * Y, const int * incy);\n",
      "\textern \"C\" void sgemm_(const char * transa, const char * transb, const int * m, const int * n, const int * k,\n",
      "\t                       const float * alpha, const float * A, const int * lda, const float * B, const int * ldb,\n",
      "\t                       const float * beta, float * C, const int * ldc);\n",
      "}//BLAS\n",
      "struct Session {\n",
      "std::vector<float> fTensor_dense4bias0 = std::vector<float>(2);\n",
      "float * tensor_dense4bias0 = fTensor_dense4bias0.data();\n",
      "std::vector<float> fTensor_dense3bias0 = std::vector<float>(64);\n",
      "float * tensor_dense3bias0 = fTensor_dense3bias0.data();\n",
      "std::vector<float> fTensor_dense4kernel0 = std::vector<float>(128);\n",
      "float * tensor_dense4kernel0 = fTensor_dense4kernel0.data();\n",
      "std::vector<float> fTensor_dense2bias0 = std::vector<float>(64);\n",
      "float * tensor_dense2bias0 = fTensor_dense2bias0.data();\n",
      "std::vector<float> fTensor_dense1bias0 = std::vector<float>(64);\n",
      "float * tensor_dense1bias0 = fTensor_dense1bias0.data();\n",
      "std::vector<float> fTensor_dense1kernel0 = std::vector<float>(4096);\n",
      "float * tensor_dense1kernel0 = fTensor_dense1kernel0.data();\n",
      "std::vector<float> fTensor_densebias0 = std::vector<float>(64);\n",
      "float * tensor_densebias0 = fTensor_densebias0.data();\n",
      "std::vector<float> fTensor_dense3kernel0 = std::vector<float>(4096);\n",
      "float * tensor_dense3kernel0 = fTensor_dense3kernel0.data();\n",
      "std::vector<float> fTensor_dense2kernel0 = std::vector<float>(4096);\n",
      "float * tensor_dense2kernel0 = fTensor_dense2kernel0.data();\n",
      "std::vector<float> fTensor_densekernel0 = std::vector<float>(448);\n",
      "float * tensor_densekernel0 = fTensor_densekernel0.data();\n",
      "std::vector<float> fTensor_dense3Dense = std::vector<float>(64);\n",
      "float * tensor_dense3Dense = fTensor_dense3Dense.data();\n",
      "std::vector<float> fTensor_dense4Dense = std::vector<float>(2);\n",
      "float * tensor_dense4Dense = fTensor_dense4Dense.data();\n",
      "std::vector<float> fTensor_dense2Dense = std::vector<float>(64);\n",
      "float * tensor_dense2Dense = fTensor_dense2Dense.data();\n",
      "std::vector<float> fTensor_dense2Relu0 = std::vector<float>(64);\n",
      "float * tensor_dense2Relu0 = fTensor_dense2Relu0.data();\n",
      "std::vector<float> fTensor_dense1Relu0 = std::vector<float>(64);\n",
      "float * tensor_dense1Relu0 = fTensor_dense1Relu0.data();\n",
      "std::vector<float> fTensor_dense4Sigmoid0 = std::vector<float>(2);\n",
      "float * tensor_dense4Sigmoid0 = fTensor_dense4Sigmoid0.data();\n",
      "std::vector<float> fTensor_dense1Dense = std::vector<float>(64);\n",
      "float * tensor_dense1Dense = fTensor_dense1Dense.data();\n",
      "std::vector<float> fTensor_dense3Relu0 = std::vector<float>(64);\n",
      "float * tensor_dense3Relu0 = fTensor_dense3Relu0.data();\n",
      "std::vector<float> fTensor_denseRelu0 = std::vector<float>(64);\n",
      "float * tensor_denseRelu0 = fTensor_denseRelu0.data();\n",
      "std::vector<float> fTensor_denseDense = std::vector<float>(64);\n",
      "float * tensor_denseDense = fTensor_denseDense.data();\n",
      "\n",
      "\n",
      "Session(std::string filename =\"\") {\n",
      "   if (filename.empty()) filename = \"Higgs_trained_model.dat\";\n",
      "   std::ifstream f;\n",
      "   f.open(filename);\n",
      "   if (!f.is_open()){\n",
      "      throw std::runtime_error(\"tmva-sofie failed to open file for input weights\");\n",
      "   }\n",
      "   std::string tensor_name;\n",
      "   int length;\n",
      "   f >> tensor_name >> length;\n",
      "   if (tensor_name != \"tensor_dense4bias0\" ) {\n",
      "      std::string err_msg = \"TMVA-SOFIE failed to read the correct tensor name; expected name is tensor_dense4bias0 , read \" + tensor_name;\n",
      "      throw std::runtime_error(err_msg);\n",
      "    }\n",
      "   if (length != 2) {\n",
      "      std::string err_msg = \"TMVA-SOFIE failed to read the correct tensor size; expected size is 2 , read \" + std::to_string(length) ;\n",
      "      throw std::runtime_error(err_msg);\n",
      "    }\n",
      "    for (int i =0; i < length; ++i) \n",
      "       f >> tensor_dense4bias0[i];\n",
      "   f >> tensor_name >> length;\n",
      "   if (tensor_name != \"tensor_dense3bias0\" ) {\n",
      "      std::string err_msg = \"TMVA-SOFIE failed to read the correct tensor name; expected name is tensor_dense3bias0 , read \" + tensor_name;\n",
      "      throw std::runtime_error(err_msg);\n",
      "    }\n",
      "   if (length != 64) {\n",
      "      std::string err_msg = \"TMVA-SOFIE failed to read the correct tensor size; expected size is 64 , read \" + std::to_string(length) ;\n",
      "      throw std::runtime_error(err_msg);\n",
      "    }\n",
      "    for (int i =0; i < length; ++i) \n",
      "       f >> tensor_dense3bias0[i];\n",
      "   f >> tensor_name >> length;\n",
      "   if (tensor_name != \"tensor_dense4kernel0\" ) {\n",
      "      std::string err_msg = \"TMVA-SOFIE failed to read the correct tensor name; expected name is tensor_dense4kernel0 , read \" + tensor_name;\n",
      "      throw std::runtime_error(err_msg);\n",
      "    }\n",
      "   if (length != 128) {\n",
      "      std::string err_msg = \"TMVA-SOFIE failed to read the correct tensor size; expected size is 128 , read \" + std::to_string(length) ;\n",
      "      throw std::runtime_error(err_msg);\n",
      "    }\n",
      "    for (int i =0; i < length; ++i) \n",
      "       f >> tensor_dense4kernel0[i];\n",
      "   f >> tensor_name >> length;\n",
      "   if (tensor_name != \"tensor_dense2bias0\" ) {\n",
      "      std::string err_msg = \"TMVA-SOFIE failed to read the correct tensor name; expected name is tensor_dense2bias0 , read \" + tensor_name;\n",
      "      throw std::runtime_error(err_msg);\n",
      "    }\n",
      "   if (length != 64) {\n",
      "      std::string err_msg = \"TMVA-SOFIE failed to read the correct tensor size; expected size is 64 , read \" + std::to_string(length) ;\n",
      "      throw std::runtime_error(err_msg);\n",
      "    }\n",
      "    for (int i =0; i < length; ++i) \n",
      "       f >> tensor_dense2bias0[i];\n",
      "   f >> tensor_name >> length;\n",
      "   if (tensor_name != \"tensor_dense1bias0\" ) {\n",
      "      std::string err_msg = \"TMVA-SOFIE failed to read the correct tensor name; expected name is tensor_dense1bias0 , read \" + tensor_name;\n",
      "      throw std::runtime_error(err_msg);\n",
      "    }\n",
      "   if (length != 64) {\n",
      "      std::string err_msg = \"TMVA-SOFIE failed to read the correct tensor size; expected size is 64 , read \" + std::to_string(length) ;\n",
      "      throw std::runtime_error(err_msg);\n",
      "    }\n",
      "    for (int i =0; i < length; ++i) \n",
      "       f >> tensor_dense1bias0[i];\n",
      "   f >> tensor_name >> length;\n",
      "   if (tensor_name != \"tensor_dense1kernel0\" ) {\n",
      "      std::string err_msg = \"TMVA-SOFIE failed to read the correct tensor name; expected name is tensor_dense1kernel0 , read \" + tensor_name;\n",
      "      throw std::runtime_error(err_msg);\n",
      "    }\n",
      "   if (length != 4096) {\n",
      "      std::string err_msg = \"TMVA-SOFIE failed to read the correct tensor size; expected size is 4096 , read \" + std::to_string(length) ;\n",
      "      throw std::runtime_error(err_msg);\n",
      "    }\n",
      "    for (int i =0; i < length; ++i) \n",
      "       f >> tensor_dense1kernel0[i];\n",
      "   f >> tensor_name >> length;\n",
      "   if (tensor_name != \"tensor_densebias0\" ) {\n",
      "      std::string err_msg = \"TMVA-SOFIE failed to read the correct tensor name; expected name is tensor_densebias0 , read \" + tensor_name;\n",
      "      throw std::runtime_error(err_msg);\n",
      "    }\n",
      "   if (length != 64) {\n",
      "      std::string err_msg = \"TMVA-SOFIE failed to read the correct tensor size; expected size is 64 , read \" + std::to_string(length) ;\n",
      "      throw std::runtime_error(err_msg);\n",
      "    }\n",
      "    for (int i =0; i < length; ++i) \n",
      "       f >> tensor_densebias0[i];\n",
      "   f >> tensor_name >> length;\n",
      "   if (tensor_name != \"tensor_dense3kernel0\" ) {\n",
      "      std::string err_msg = \"TMVA-SOFIE failed to read the correct tensor name; expected name is tensor_dense3kernel0 , read \" + tensor_name;\n",
      "      throw std::runtime_error(err_msg);\n",
      "    }\n",
      "   if (length != 4096) {\n",
      "      std::string err_msg = \"TMVA-SOFIE failed to read the correct tensor size; expected size is 4096 , read \" + std::to_string(length) ;\n",
      "      throw std::runtime_error(err_msg);\n",
      "    }\n",
      "    for (int i =0; i < length; ++i) \n",
      "       f >> tensor_dense3kernel0[i];\n",
      "   f >> tensor_name >> length;\n",
      "   if (tensor_name != \"tensor_dense2kernel0\" ) {\n",
      "      std::string err_msg = \"TMVA-SOFIE failed to read the correct tensor name; expected name is tensor_dense2kernel0 , read \" + tensor_name;\n",
      "      throw std::runtime_error(err_msg);\n",
      "    }\n",
      "   if (length != 4096) {\n",
      "      std::string err_msg = \"TMVA-SOFIE failed to read the correct tensor size; expected size is 4096 , read \" + std::to_string(length) ;\n",
      "      throw std::runtime_error(err_msg);\n",
      "    }\n",
      "    for (int i =0; i < length; ++i) \n",
      "       f >> tensor_dense2kernel0[i];\n",
      "   f >> tensor_name >> length;\n",
      "   if (tensor_name != \"tensor_densekernel0\" ) {\n",
      "      std::string err_msg = \"TMVA-SOFIE failed to read the correct tensor name; expected name is tensor_densekernel0 , read \" + tensor_name;\n",
      "      throw std::runtime_error(err_msg);\n",
      "    }\n",
      "   if (length != 448) {\n",
      "      std::string err_msg = \"TMVA-SOFIE failed to read the correct tensor size; expected size is 448 , read \" + std::to_string(length) ;\n",
      "      throw std::runtime_error(err_msg);\n",
      "    }\n",
      "    for (int i =0; i < length; ++i) \n",
      "       f >> tensor_densekernel0[i];\n",
      "   f.close();\n",
      "}\n",
      "\n",
      "std::vector<float> infer(float* tensor_denseinput){\n",
      "\n",
      "//--------- Gemm\n",
      "   char op_0_transA = 'n';\n",
      "   char op_0_transB = 'n';\n",
      "   int op_0_m = 1;\n",
      "   int op_0_n = 64;\n",
      "   int op_0_k = 7;\n",
      "   float op_0_alpha = 1;\n",
      "   float op_0_beta = 1;\n",
      "   int op_0_lda = 7;\n",
      "   int op_0_ldb = 64;\n",
      "   std::copy(tensor_densebias0, tensor_densebias0 + 64, tensor_denseDense);\n",
      "   BLAS::sgemm_(&op_0_transB, &op_0_transA, &op_0_n, &op_0_m, &op_0_k, &op_0_alpha, tensor_densekernel0, &op_0_ldb, tensor_denseinput, &op_0_lda, &op_0_beta, tensor_denseDense, &op_0_n);\n",
      "\n",
      "//------ RELU\n",
      "   for (int id = 0; id < 64 ; id++){\n",
      "      tensor_denseRelu0[id] = ((tensor_denseDense[id] > 0 )? tensor_denseDense[id] : 0);\n",
      "   }\n",
      "\n",
      "//--------- Gemm\n",
      "   char op_2_transA = 'n';\n",
      "   char op_2_transB = 'n';\n",
      "   int op_2_m = 1;\n",
      "   int op_2_n = 64;\n",
      "   int op_2_k = 64;\n",
      "   float op_2_alpha = 1;\n",
      "   float op_2_beta = 1;\n",
      "   int op_2_lda = 64;\n",
      "   int op_2_ldb = 64;\n",
      "   std::copy(tensor_dense1bias0, tensor_dense1bias0 + 64, tensor_dense1Dense);\n",
      "   BLAS::sgemm_(&op_2_transB, &op_2_transA, &op_2_n, &op_2_m, &op_2_k, &op_2_alpha, tensor_dense1kernel0, &op_2_ldb, tensor_denseRelu0, &op_2_lda, &op_2_beta, tensor_dense1Dense, &op_2_n);\n",
      "\n",
      "//------ RELU\n",
      "   for (int id = 0; id < 64 ; id++){\n",
      "      tensor_dense1Relu0[id] = ((tensor_dense1Dense[id] > 0 )? tensor_dense1Dense[id] : 0);\n",
      "   }\n",
      "\n",
      "//--------- Gemm\n",
      "   char op_4_transA = 'n';\n",
      "   char op_4_transB = 'n';\n",
      "   int op_4_m = 1;\n",
      "   int op_4_n = 64;\n",
      "   int op_4_k = 64;\n",
      "   float op_4_alpha = 1;\n",
      "   float op_4_beta = 1;\n",
      "   int op_4_lda = 64;\n",
      "   int op_4_ldb = 64;\n",
      "   std::copy(tensor_dense2bias0, tensor_dense2bias0 + 64, tensor_dense2Dense);\n",
      "   BLAS::sgemm_(&op_4_transB, &op_4_transA, &op_4_n, &op_4_m, &op_4_k, &op_4_alpha, tensor_dense2kernel0, &op_4_ldb, tensor_dense1Relu0, &op_4_lda, &op_4_beta, tensor_dense2Dense, &op_4_n);\n",
      "\n",
      "//------ RELU\n",
      "   for (int id = 0; id < 64 ; id++){\n",
      "      tensor_dense2Relu0[id] = ((tensor_dense2Dense[id] > 0 )? tensor_dense2Dense[id] : 0);\n",
      "   }\n",
      "\n",
      "//--------- Gemm\n",
      "   char op_6_transA = 'n';\n",
      "   char op_6_transB = 'n';\n",
      "   int op_6_m = 1;\n",
      "   int op_6_n = 64;\n",
      "   int op_6_k = 64;\n",
      "   float op_6_alpha = 1;\n",
      "   float op_6_beta = 1;\n",
      "   int op_6_lda = 64;\n",
      "   int op_6_ldb = 64;\n",
      "   std::copy(tensor_dense3bias0, tensor_dense3bias0 + 64, tensor_dense3Dense);\n",
      "   BLAS::sgemm_(&op_6_transB, &op_6_transA, &op_6_n, &op_6_m, &op_6_k, &op_6_alpha, tensor_dense3kernel0, &op_6_ldb, tensor_dense2Relu0, &op_6_lda, &op_6_beta, tensor_dense3Dense, &op_6_n);\n",
      "\n",
      "//------ RELU\n",
      "   for (int id = 0; id < 64 ; id++){\n",
      "      tensor_dense3Relu0[id] = ((tensor_dense3Dense[id] > 0 )? tensor_dense3Dense[id] : 0);\n",
      "   }\n",
      "\n",
      "//--------- Gemm\n",
      "   char op_8_transA = 'n';\n",
      "   char op_8_transB = 'n';\n",
      "   int op_8_m = 1;\n",
      "   int op_8_n = 2;\n",
      "   int op_8_k = 64;\n",
      "   float op_8_alpha = 1;\n",
      "   float op_8_beta = 1;\n",
      "   int op_8_lda = 64;\n",
      "   int op_8_ldb = 2;\n",
      "   std::copy(tensor_dense4bias0, tensor_dense4bias0 + 2, tensor_dense4Dense);\n",
      "   BLAS::sgemm_(&op_8_transB, &op_8_transA, &op_8_n, &op_8_m, &op_8_k, &op_8_alpha, tensor_dense4kernel0, &op_8_ldb, tensor_dense3Relu0, &op_8_lda, &op_8_beta, tensor_dense4Dense, &op_8_n);\n",
      "\tfor (int id = 0; id < 2 ; id++){\n",
      "\t\ttensor_dense4Sigmoid0[id] = 1 / (1 + std::exp( - tensor_dense4Dense[id]));\n",
      "\t}\n",
      "\tstd::vector<float> ret (tensor_dense4Sigmoid0, tensor_dense4Sigmoid0 + 2);\n",
      "\treturn ret;\n",
      "}\n",
      "};\n",
      "} //TMVA_SOFIE_Higgs_trained_model\n"
     ]
    }
   ],
   "source": [
    "#Generating inference code\n",
    "model.Generate()\n",
    "model.OutputGenerated()\n",
    "model.PrintGenerated()"
   ]
  },
  {
   "cell_type": "markdown",
   "id": "25e65119",
   "metadata": {},
   "source": [
    "### Compile generated model using ROOT JIT"
   ]
  },
  {
   "cell_type": "code",
   "execution_count": 5,
   "id": "c42a77c8",
   "metadata": {},
   "outputs": [
    {
     "name": "stdout",
     "output_type": "stream",
     "text": [
      "compiling SOFIE model and functor....\n"
     ]
    },
    {
     "data": {
      "text/plain": [
       "True"
      ]
     },
     "execution_count": 5,
     "metadata": {},
     "output_type": "execute_result"
    }
   ],
   "source": [
    "# now compile using ROOT JIT trained model\n",
    "print(\"compiling SOFIE model and functor....\")\n",
    "generatedFile = \"Higgs_trained_model.hxx\"\n",
    "modelName = \"Higgs_trained_model\"\n",
    "ROOT.gInterpreter.Declare('#include \"' + generatedFile + '\"')\n",
    "ROOT.gInterpreter.Declare('auto sofie_functor = TMVA::Experimental::SofieFunctor<7,TMVA_SOFIE_'+modelName+'::Session>(0);')\n"
   ]
  },
  {
   "cell_type": "markdown",
   "id": "4be44997",
   "metadata": {},
   "source": [
    "### Use model with RDataFrame"
   ]
  },
  {
   "cell_type": "code",
   "execution_count": 6,
   "id": "85f1efbe",
   "metadata": {},
   "outputs": [],
   "source": [
    "inputFile = \"http://root.cern.ch/files/Higgs_data.root\""
   ]
  },
  {
   "cell_type": "code",
   "execution_count": 7,
   "id": "19860976",
   "metadata": {},
   "outputs": [],
   "source": [
    "df1 = ROOT.RDataFrame(\"sig_tree\", inputFile)\n",
    "h1 = df1.Define(\"DNN_Value\", \"sofie_functor(rdfslot_,m_jj, m_jjj, m_lv, m_jlv, m_bb, m_wbb, m_wwbb)\").Histo1D((\"h_sig\", \"\", 100, 0, 1),\"DNN_Value\")\n",
    "\n",
    "df2 = ROOT.RDataFrame(\"bkg_tree\", inputFile)\n",
    "h2 = df2.Define(\"DNN_Value\", \"sofie_functor(rdfslot_,m_jj, m_jjj, m_lv, m_jlv, m_bb, m_wbb, m_wwbb)\").Histo1D((\"h_bkg\", \"\", 100, 0, 1),\"DNN_Value\")"
   ]
  },
  {
   "cell_type": "code",
   "execution_count": 8,
   "id": "4e203dd4",
   "metadata": {},
   "outputs": [
    {
     "data": {
      "image/png": "[encoded data removed]",
      "text/plain": [
       "<IPython.core.display.Image object>"
      ]
     },
     "metadata": {},
     "output_type": "display_data"
    }
   ],
   "source": [
    "h1.SetLineColor(ROOT.kRed)\n",
    "h2.SetLineColor(ROOT.kBlue)\n",
    "\n",
    "c1 = ROOT.TCanvas()\n",
    "ROOT.gStyle.SetOptStat(0)\n",
    "\n",
    "h2.Draw()\n",
    "h1.Draw(\"SAME\")\n",
    "c1.Draw()"
   ]
  },
  {
   "cell_type": "code",
   "execution_count": null,
   "id": "7b5b524b",
   "metadata": {},
   "outputs": [],
   "source": []
  }
 ],
 "metadata": {
  "kernelspec": {
   "display_name": "Python 3 (ipykernel)",
   "language": "python",
   "name": "python3"
  },
  "language_info": {
   "codemirror_mode": {
    "name": "ipython",
    "version": 3
   },
   "file_extension": ".py",
   "mimetype": "text/x-python",
   "name": "python",
   "nbconvert_exporter": "python",
   "pygments_lexer": "ipython3",
   "version": "3.8.9"
  }
 },
 "nbformat": 4,
 "nbformat_minor": 5
}
