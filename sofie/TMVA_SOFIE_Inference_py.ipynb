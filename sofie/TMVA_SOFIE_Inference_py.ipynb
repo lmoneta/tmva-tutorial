{
 "cells": [
  {
   "cell_type": "markdown",
   "id": "3b37087d",
   "metadata": {},
   "source": [
    "## Using SOFIE  in Python with Numpy\n",
    "\n",
    "notebook from tutorial TMVA_SOFIE_Inference.py"
   ]
  },
  {
   "cell_type": "code",
   "execution_count": null,
   "id": "4b087fd0",
   "metadata": {},
   "outputs": [],
   "source": [
    "import ROOT\n",
    "import numpy as np"
   ]
  },
  {
   "cell_type": "code",
   "execution_count": null,
   "id": "2635d2bc",
   "metadata": {},
   "outputs": [],
   "source": [
    "modelFile = \"Higgs_trained_model.h5\"\n",
    "if (ROOT.gSystem.AccessPathName(modelFile)) :\n",
    "    ROOT.Info(\"TMVA_SOFIE_RDataFrame\",\"You need to run TMVA_Higgs_Classification to generate the Keras trained model\")\n",
    "    exit()"
   ]
  },
  {
   "cell_type": "markdown",
   "id": "9cd476a3",
   "metadata": {},
   "source": [
    "#### 1. Parse the input Keras model into RModel object"
   ]
  },
  {
   "cell_type": "code",
   "execution_count": null,
   "id": "41898c99",
   "metadata": {},
   "outputs": [],
   "source": [
    "model = ROOT.TMVA.Experimental.SOFIE.PyKeras.Parse(modelFile)"
   ]
  },
  {
   "cell_type": "code",
   "execution_count": null,
   "id": "9d5f940b",
   "metadata": {},
   "outputs": [],
   "source": [
    "generatedHeaderFile = modelFile.replace(\".h5\",\".hxx\")\n",
    "print(\"Generating inference code for the Keras model from \",modelFile,\"in the header \", generatedHeaderFile)\n",
    "#Generating inference code\n",
    "model.Generate()\n",
    "model.OutputGenerated(generatedHeaderFile)"
   ]
  },
  {
   "cell_type": "code",
   "execution_count": null,
   "id": "77fbcb40",
   "metadata": {},
   "outputs": [],
   "source": [
    "model.PrintGenerated()"
   ]
  },
  {
   "cell_type": "markdown",
   "id": "6bc0667d",
   "metadata": {},
   "source": [
    "#### 2. Compile the generated model file"
   ]
  },
  {
   "cell_type": "code",
   "execution_count": null,
   "id": "9a43b0e8",
   "metadata": {},
   "outputs": [],
   "source": [
    "modelName = modelFile.replace(\".h5\",\"\")\n",
    "print(\"compiling SOFIE model \", modelName)\n",
    "ret = ROOT.gInterpreter.Declare('#include \"' + generatedHeaderFile + '\"')\n",
    "if not ret:\n",
    "    print(\"Error compiling header file \", generatedHeaderFile)\n",
    "    exit()"
   ]
  },
  {
   "cell_type": "markdown",
   "id": "23f07058",
   "metadata": {},
   "source": [
    "#### 3. Read input data in Numpy arrays"
   ]
  },
  {
   "cell_type": "code",
   "execution_count": null,
   "id": "98776d24",
   "metadata": {},
   "outputs": [],
   "source": [
    "inputFileName = \"Higgs_data.root\"\n",
    "inputFile = \"http://root.cern.ch/files/\" + inputFileName"
   ]
  },
  {
   "cell_type": "markdown",
   "id": "5cbaaee8",
   "metadata": {},
   "source": [
    "Use RDataFrame -> Numpy "
   ]
  },
  {
   "cell_type": "code",
   "execution_count": null,
   "id": "fb20723b",
   "metadata": {},
   "outputs": [],
   "source": [
    "df1 = ROOT.RDataFrame(\"sig_tree\", inputFile)\n",
    "sigData = df1.AsNumpy(columns=['m_jj', 'm_jjj', 'm_lv', 'm_jlv', 'm_bb', 'm_wbb', 'm_wwbb'])"
   ]
  },
  {
   "cell_type": "code",
   "execution_count": null,
   "id": "061e6afd",
   "metadata": {},
   "outputs": [],
   "source": [
    "dataset_size = len(list(sigData.values())[0])"
   ]
  },
  {
   "cell_type": "code",
   "execution_count": null,
   "id": "9beb1cd5",
   "metadata": {},
   "outputs": [],
   "source": [
    "list(sigData.values())[0]"
   ]
  },
  {
   "cell_type": "markdown",
   "id": "1549f8e5",
   "metadata": {},
   "source": [
    "#### 4. Perform SOFIE inference from numpy arrays"
   ]
  },
  {
   "cell_type": "markdown",
   "id": "70665e67",
   "metadata": {},
   "source": [
    "Create SOFIE session class"
   ]
  },
  {
   "cell_type": "code",
   "execution_count": null,
   "id": "d5bfda4f",
   "metadata": {},
   "outputs": [],
   "source": [
    "session = ROOT.TMVA_SOFIE_Higgs_trained_model.Session()"
   ]
  },
  {
   "cell_type": "markdown",
   "id": "94bd750c",
   "metadata": {},
   "source": [
    "Perform inference on single event (It could be done on a batch of events)."
   ]
  },
  {
   "cell_type": "code",
   "execution_count": null,
   "id": "7b12228a",
   "metadata": {},
   "outputs": [],
   "source": [
    "hs = ROOT.TH1D(\"hs\",\"Signal result\",100,0,1)\n",
    "for i in range(0,dataset_size):\n",
    "    xsig = np.array([sigData[x][i] for x in sigData.keys()])\n",
    "    result = session.infer(xsig)\n",
    "    hs.Fill(result[0])"
   ]
  },
  {
   "cell_type": "markdown",
   "id": "b82e0ad7",
   "metadata": {},
   "source": [
    "#### 5. Evaluate model also on background data"
   ]
  },
  {
   "cell_type": "code",
   "execution_count": null,
   "id": "4cb25775",
   "metadata": {},
   "outputs": [],
   "source": [
    "# make SOFIE inference on background data\n",
    "df2 = ROOT.RDataFrame(\"bkg_tree\", inputFile)\n",
    "bkgData = df2.AsNumpy(columns=['m_jj', 'm_jjj', 'm_lv', 'm_jlv', 'm_bb', 'm_wbb', 'm_wwbb'])\n",
    "\n",
    "hb = ROOT.TH1D(\"hb\",\"Background result\",100,0,1)\n",
    "dataset_size = len(list(bkgData.values())[0])\n",
    "for i in range(0,dataset_size):\n",
    "    xbkg = np.array([bkgData[x][i] for x in bkgData.keys()])\n",
    "    result = session.infer(xbkg)\n",
    "    hb.Fill(result[0])\n"
   ]
  },
  {
   "cell_type": "markdown",
   "id": "780f24f5",
   "metadata": {},
   "source": [
    "#### 6. Plot Results"
   ]
  },
  {
   "cell_type": "code",
   "execution_count": null,
   "id": "92760ba4",
   "metadata": {},
   "outputs": [],
   "source": [
    "c1 = ROOT.TCanvas()\n",
    "ROOT.gStyle.SetOptStat(0)\n",
    "hs.SetLineColor(ROOT.kRed)\n",
    "hb.SetLineColor(ROOT.kBlue)\n",
    "hb.Draw()\n",
    "hs.Draw(\"SAME\")\n",
    "c1.BuildLegend()\n",
    "c1.Draw()"
   ]
  }
 ],
 "metadata": {
  "kernelspec": {
   "display_name": "Python 3 (ipykernel)",
   "language": "python",
   "name": "python3"
  },
  "language_info": {
   "codemirror_mode": {
    "name": "ipython",
    "version": 3
   },
   "file_extension": ".py",
   "mimetype": "text/x-python",
   "name": "python",
   "nbconvert_exporter": "python",
   "pygments_lexer": "ipython3",
   "version": "3.8.9"
  }
 },
 "nbformat": 4,
 "nbformat_minor": 5
}
