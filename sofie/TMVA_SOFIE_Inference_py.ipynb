{
 "cells": [
  {
   "cell_type": "markdown",
   "id": "3b37087d",
   "metadata": {},
   "source": [
    "## Using SOFIE  in Python with Numpy\n",
    "\n",
    "notebook from tutorial TMVA_SOFIE_Inference.py"
   ]
  },
  {
   "cell_type": "code",
   "execution_count": 1,
   "id": "4b087fd0",
   "metadata": {},
   "outputs": [
    {
     "name": "stdout",
     "output_type": "stream",
     "text": [
      "Welcome to JupyROOT 6.29/01\n"
     ]
    }
   ],
   "source": [
    "import ROOT\n",
    "import numpy as np"
   ]
  },
  {
   "cell_type": "code",
   "execution_count": 2,
   "id": "2635d2bc",
   "metadata": {},
   "outputs": [],
   "source": [
    "modelFile = \"Higgs_trained_model.h5\"\n",
    "if (ROOT.gSystem.AccessPathName(modelFile)) :\n",
    "    ROOT.Info(\"TMVA_SOFIE_RDataFrame\",\"You need to run TMVA_Higgs_Classification to generate the Keras trained model\")\n",
    "    exit()"
   ]
  },
  {
   "cell_type": "markdown",
   "id": "9cd476a3",
   "metadata": {},
   "source": [
    "#### 1. Parse the input Keras model into RModel object"
   ]
  },
  {
   "cell_type": "code",
   "execution_count": 3,
   "id": "41898c99",
   "metadata": {},
   "outputs": [
    {
     "name": "stdout",
     "output_type": "stream",
     "text": [
      "Keras Version: 2.9.0\n",
      "Model has not a defined batch size, assume is 1 - input shape for tensor dense_input : { 1 , 7 }\n"
     ]
    }
   ],
   "source": [
    "model = ROOT.TMVA.Experimental.SOFIE.PyKeras.Parse(modelFile)"
   ]
  },
  {
   "cell_type": "code",
   "execution_count": 4,
   "id": "9d5f940b",
   "metadata": {},
   "outputs": [
    {
     "name": "stdout",
     "output_type": "stream",
     "text": [
      "Generating inference code for the Keras model from  Higgs_trained_model.h5 in the header  Higgs_trained_model.hxx\n"
     ]
    }
   ],
   "source": [
    "generatedHeaderFile = modelFile.replace(\".h5\",\".hxx\")\n",
    "print(\"Generating inference code for the Keras model from \",modelFile,\"in the header \", generatedHeaderFile)\n",
    "#Generating inference code\n",
    "model.Generate()\n",
    "model.OutputGenerated(generatedHeaderFile)"
   ]
  },
  {
   "cell_type": "code",
   "execution_count": 5,
   "id": "77fbcb40",
   "metadata": {},
   "outputs": [
    {
     "name": "stdout",
     "output_type": "stream",
     "text": [
      "//Code generated automatically by TMVA for Inference of Model file [Higgs_trained_model.h5] at [Thu Feb  2 20:37:43 2023] \n",
      "\n",
      "#ifndef TMVA_SOFIE_HIGGS_TRAINED_MODEL\n",
      "#define TMVA_SOFIE_HIGGS_TRAINED_MODEL\n",
      "\n",
      "#include<algorithm>\n",
      "#include<cmath>\n",
      "#include<vector>\n",
      "#include \"TMVA/SOFIE_common.hxx\"\n",
      "#include <fstream>\n",
      "\n",
      "namespace TMVA_SOFIE_Higgs_trained_model{\n",
      "namespace BLAS{\n",
      "\textern \"C\" void sgemv_(const char * trans, const int * m, const int * n, const float * alpha, const float * A,\n",
      "\t                       const int * lda, const float * X, const int * incx, const float * beta, const float * Y, const int * incy);\n",
      "\textern \"C\" void sgemm_(const char * transa, const char * transb, const int * m, const int * n, const int * k,\n",
      "\t                       const float * alpha, const float * A, const int * lda, const float * B, const int * ldb,\n",
      "\t                       const float * beta, float * C, const int * ldc);\n",
      "}//BLAS\n",
      "struct Session {\n",
      "std::vector<float> fTensor_dense4bias0 = std::vector<float>(2);\n",
      "float * tensor_dense4bias0 = fTensor_dense4bias0.data();\n",
      "std::vector<float> fTensor_dense3bias0 = std::vector<float>(64);\n",
      "float * tensor_dense3bias0 = fTensor_dense3bias0.data();\n",
      "std::vector<float> fTensor_dense4kernel0 = std::vector<float>(128);\n",
      "float * tensor_dense4kernel0 = fTensor_dense4kernel0.data();\n",
      "std::vector<float> fTensor_dense2bias0 = std::vector<float>(64);\n",
      "float * tensor_dense2bias0 = fTensor_dense2bias0.data();\n",
      "std::vector<float> fTensor_dense1bias0 = std::vector<float>(64);\n",
      "float * tensor_dense1bias0 = fTensor_dense1bias0.data();\n",
      "std::vector<float> fTensor_dense1kernel0 = std::vector<float>(4096);\n",
      "float * tensor_dense1kernel0 = fTensor_dense1kernel0.data();\n",
      "std::vector<float> fTensor_densebias0 = std::vector<float>(64);\n",
      "float * tensor_densebias0 = fTensor_densebias0.data();\n",
      "std::vector<float> fTensor_dense3kernel0 = std::vector<float>(4096);\n",
      "float * tensor_dense3kernel0 = fTensor_dense3kernel0.data();\n",
      "std::vector<float> fTensor_dense2kernel0 = std::vector<float>(4096);\n",
      "float * tensor_dense2kernel0 = fTensor_dense2kernel0.data();\n",
      "std::vector<float> fTensor_densekernel0 = std::vector<float>(448);\n",
      "float * tensor_densekernel0 = fTensor_densekernel0.data();\n",
      "std::vector<float> fTensor_dense4Sigmoid0 = std::vector<float>(2);\n",
      "float * tensor_dense4Sigmoid0 = fTensor_dense4Sigmoid0.data();\n",
      "std::vector<float> fTensor_dense4bias0bcast = std::vector<float>(2);\n",
      "float * tensor_dense4bias0bcast = fTensor_dense4bias0bcast.data();\n",
      "std::vector<float> fTensor_dense3Dense = std::vector<float>(64);\n",
      "float * tensor_dense3Dense = fTensor_dense3Dense.data();\n",
      "std::vector<float> fTensor_denseDense = std::vector<float>(64);\n",
      "float * tensor_denseDense = fTensor_denseDense.data();\n",
      "std::vector<float> fTensor_dense3bias0bcast = std::vector<float>(64);\n",
      "float * tensor_dense3bias0bcast = fTensor_dense3bias0bcast.data();\n",
      "std::vector<float> fTensor_dense3Relu0 = std::vector<float>(64);\n",
      "float * tensor_dense3Relu0 = fTensor_dense3Relu0.data();\n",
      "std::vector<float> fTensor_dense2Dense = std::vector<float>(64);\n",
      "float * tensor_dense2Dense = fTensor_dense2Dense.data();\n",
      "std::vector<float> fTensor_dense4Dense = std::vector<float>(2);\n",
      "float * tensor_dense4Dense = fTensor_dense4Dense.data();\n",
      "std::vector<float> fTensor_dense1Dense = std::vector<float>(64);\n",
      "float * tensor_dense1Dense = fTensor_dense1Dense.data();\n",
      "std::vector<float> fTensor_denseRelu0 = std::vector<float>(64);\n",
      "float * tensor_denseRelu0 = fTensor_denseRelu0.data();\n",
      "std::vector<float> fTensor_dense1bias0bcast = std::vector<float>(64);\n",
      "float * tensor_dense1bias0bcast = fTensor_dense1bias0bcast.data();\n",
      "std::vector<float> fTensor_densebias0bcast = std::vector<float>(64);\n",
      "float * tensor_densebias0bcast = fTensor_densebias0bcast.data();\n",
      "std::vector<float> fTensor_dense2bias0bcast = std::vector<float>(64);\n",
      "float * tensor_dense2bias0bcast = fTensor_dense2bias0bcast.data();\n",
      "std::vector<float> fTensor_dense2Relu0 = std::vector<float>(64);\n",
      "float * tensor_dense2Relu0 = fTensor_dense2Relu0.data();\n",
      "std::vector<float> fTensor_dense1Relu0 = std::vector<float>(64);\n",
      "float * tensor_dense1Relu0 = fTensor_dense1Relu0.data();\n",
      "\n",
      "\n",
      "Session(std::string filename =\"\") {\n",
      "   if (filename.empty()) filename = \"Higgs_trained_model.dat\";\n",
      "   std::ifstream f;\n",
      "   f.open(filename);\n",
      "   if (!f.is_open()){\n",
      "      throw std::runtime_error(\"tmva-sofie failed to open file for input weights\");\n",
      "   }\n",
      "   std::string tensor_name;\n",
      "   int length;\n",
      "   f >> tensor_name >> length;\n",
      "   if (tensor_name != \"tensor_dense4bias0\" ) {\n",
      "      std::string err_msg = \"TMVA-SOFIE failed to read the correct tensor name; expected name is tensor_dense4bias0 , read \" + tensor_name;\n",
      "      throw std::runtime_error(err_msg);\n",
      "    }\n",
      "   if (length != 2) {\n",
      "      std::string err_msg = \"TMVA-SOFIE failed to read the correct tensor size; expected size is 2 , read \" + std::to_string(length) ;\n",
      "      throw std::runtime_error(err_msg);\n",
      "    }\n",
      "    for (int i =0; i < length; ++i) \n",
      "       f >> tensor_dense4bias0[i];\n",
      "   f >> tensor_name >> length;\n",
      "   if (tensor_name != \"tensor_dense3bias0\" ) {\n",
      "      std::string err_msg = \"TMVA-SOFIE failed to read the correct tensor name; expected name is tensor_dense3bias0 , read \" + tensor_name;\n",
      "      throw std::runtime_error(err_msg);\n",
      "    }\n",
      "   if (length != 64) {\n",
      "      std::string err_msg = \"TMVA-SOFIE failed to read the correct tensor size; expected size is 64 , read \" + std::to_string(length) ;\n",
      "      throw std::runtime_error(err_msg);\n",
      "    }\n",
      "    for (int i =0; i < length; ++i) \n",
      "       f >> tensor_dense3bias0[i];\n",
      "   f >> tensor_name >> length;\n",
      "   if (tensor_name != \"tensor_dense4kernel0\" ) {\n",
      "      std::string err_msg = \"TMVA-SOFIE failed to read the correct tensor name; expected name is tensor_dense4kernel0 , read \" + tensor_name;\n",
      "      throw std::runtime_error(err_msg);\n",
      "    }\n",
      "   if (length != 128) {\n",
      "      std::string err_msg = \"TMVA-SOFIE failed to read the correct tensor size; expected size is 128 , read \" + std::to_string(length) ;\n",
      "      throw std::runtime_error(err_msg);\n",
      "    }\n",
      "    for (int i =0; i < length; ++i) \n",
      "       f >> tensor_dense4kernel0[i];\n",
      "   f >> tensor_name >> length;\n",
      "   if (tensor_name != \"tensor_dense2bias0\" ) {\n",
      "      std::string err_msg = \"TMVA-SOFIE failed to read the correct tensor name; expected name is tensor_dense2bias0 , read \" + tensor_name;\n",
      "      throw std::runtime_error(err_msg);\n",
      "    }\n",
      "   if (length != 64) {\n",
      "      std::string err_msg = \"TMVA-SOFIE failed to read the correct tensor size; expected size is 64 , read \" + std::to_string(length) ;\n",
      "      throw std::runtime_error(err_msg);\n",
      "    }\n",
      "    for (int i =0; i < length; ++i) \n",
      "       f >> tensor_dense2bias0[i];\n",
      "   f >> tensor_name >> length;\n",
      "   if (tensor_name != \"tensor_dense1bias0\" ) {\n",
      "      std::string err_msg = \"TMVA-SOFIE failed to read the correct tensor name; expected name is tensor_dense1bias0 , read \" + tensor_name;\n",
      "      throw std::runtime_error(err_msg);\n",
      "    }\n",
      "   if (length != 64) {\n",
      "      std::string err_msg = \"TMVA-SOFIE failed to read the correct tensor size; expected size is 64 , read \" + std::to_string(length) ;\n",
      "      throw std::runtime_error(err_msg);\n",
      "    }\n",
      "    for (int i =0; i < length; ++i) \n",
      "       f >> tensor_dense1bias0[i];\n",
      "   f >> tensor_name >> length;\n",
      "   if (tensor_name != \"tensor_dense1kernel0\" ) {\n",
      "      std::string err_msg = \"TMVA-SOFIE failed to read the correct tensor name; expected name is tensor_dense1kernel0 , read \" + tensor_name;\n",
      "      throw std::runtime_error(err_msg);\n",
      "    }\n",
      "   if (length != 4096) {\n",
      "      std::string err_msg = \"TMVA-SOFIE failed to read the correct tensor size; expected size is 4096 , read \" + std::to_string(length) ;\n",
      "      throw std::runtime_error(err_msg);\n",
      "    }\n",
      "    for (int i =0; i < length; ++i) \n",
      "       f >> tensor_dense1kernel0[i];\n",
      "   f >> tensor_name >> length;\n",
      "   if (tensor_name != \"tensor_densebias0\" ) {\n",
      "      std::string err_msg = \"TMVA-SOFIE failed to read the correct tensor name; expected name is tensor_densebias0 , read \" + tensor_name;\n",
      "      throw std::runtime_error(err_msg);\n",
      "    }\n",
      "   if (length != 64) {\n",
      "      std::string err_msg = \"TMVA-SOFIE failed to read the correct tensor size; expected size is 64 , read \" + std::to_string(length) ;\n",
      "      throw std::runtime_error(err_msg);\n",
      "    }\n",
      "    for (int i =0; i < length; ++i) \n",
      "       f >> tensor_densebias0[i];\n",
      "   f >> tensor_name >> length;\n",
      "   if (tensor_name != \"tensor_dense3kernel0\" ) {\n",
      "      std::string err_msg = \"TMVA-SOFIE failed to read the correct tensor name; expected name is tensor_dense3kernel0 , read \" + tensor_name;\n",
      "      throw std::runtime_error(err_msg);\n",
      "    }\n",
      "   if (length != 4096) {\n",
      "      std::string err_msg = \"TMVA-SOFIE failed to read the correct tensor size; expected size is 4096 , read \" + std::to_string(length) ;\n",
      "      throw std::runtime_error(err_msg);\n",
      "    }\n",
      "    for (int i =0; i < length; ++i) \n",
      "       f >> tensor_dense3kernel0[i];\n",
      "   f >> tensor_name >> length;\n",
      "   if (tensor_name != \"tensor_dense2kernel0\" ) {\n",
      "      std::string err_msg = \"TMVA-SOFIE failed to read the correct tensor name; expected name is tensor_dense2kernel0 , read \" + tensor_name;\n",
      "      throw std::runtime_error(err_msg);\n",
      "    }\n",
      "   if (length != 4096) {\n",
      "      std::string err_msg = \"TMVA-SOFIE failed to read the correct tensor size; expected size is 4096 , read \" + std::to_string(length) ;\n",
      "      throw std::runtime_error(err_msg);\n",
      "    }\n",
      "    for (int i =0; i < length; ++i) \n",
      "       f >> tensor_dense2kernel0[i];\n",
      "   f >> tensor_name >> length;\n",
      "   if (tensor_name != \"tensor_densekernel0\" ) {\n",
      "      std::string err_msg = \"TMVA-SOFIE failed to read the correct tensor name; expected name is tensor_densekernel0 , read \" + tensor_name;\n",
      "      throw std::runtime_error(err_msg);\n",
      "    }\n",
      "   if (length != 448) {\n",
      "      std::string err_msg = \"TMVA-SOFIE failed to read the correct tensor size; expected size is 448 , read \" + std::to_string(length) ;\n",
      "      throw std::runtime_error(err_msg);\n",
      "    }\n",
      "    for (int i =0; i < length; ++i) \n",
      "       f >> tensor_densekernel0[i];\n",
      "   f.close();\n",
      "   {\n",
      "      float * data = TMVA::Experimental::SOFIE::UTILITY::UnidirectionalBroadcast<float>(tensor_densebias0,{ 64 }, { 1 , 64 });\n",
      "      std::copy(data, data + 64, tensor_densebias0bcast);\n",
      "      delete [] data;\n",
      "   }\n",
      "   {\n",
      "      float * data = TMVA::Experimental::SOFIE::UTILITY::UnidirectionalBroadcast<float>(tensor_dense1bias0,{ 64 }, { 1 , 64 });\n",
      "      std::copy(data, data + 64, tensor_dense1bias0bcast);\n",
      "      delete [] data;\n",
      "   }\n",
      "   {\n",
      "      float * data = TMVA::Experimental::SOFIE::UTILITY::UnidirectionalBroadcast<float>(tensor_dense2bias0,{ 64 }, { 1 , 64 });\n",
      "      std::copy(data, data + 64, tensor_dense2bias0bcast);\n",
      "      delete [] data;\n",
      "   }\n",
      "   {\n",
      "      float * data = TMVA::Experimental::SOFIE::UTILITY::UnidirectionalBroadcast<float>(tensor_dense3bias0,{ 64 }, { 1 , 64 });\n",
      "      std::copy(data, data + 64, tensor_dense3bias0bcast);\n",
      "      delete [] data;\n",
      "   }\n",
      "   {\n",
      "      float * data = TMVA::Experimental::SOFIE::UTILITY::UnidirectionalBroadcast<float>(tensor_dense4bias0,{ 2 }, { 1 , 2 });\n",
      "      std::copy(data, data + 2, tensor_dense4bias0bcast);\n",
      "      delete [] data;\n",
      "   }\n",
      "}\n",
      "\n",
      "std::vector<float> infer(float* tensor_denseinput){\n",
      "\n",
      "//--------- Gemm\n",
      "   char op_0_transA = 'n';\n",
      "   char op_0_transB = 'n';\n",
      "   int op_0_m = 1;\n",
      "   int op_0_n = 64;\n",
      "   int op_0_k = 7;\n",
      "   float op_0_alpha = 1;\n",
      "   float op_0_beta = 1;\n",
      "   int op_0_lda = 7;\n",
      "   int op_0_ldb = 64;\n",
      "   std::copy(tensor_densebias0bcast, tensor_densebias0bcast + 64, tensor_denseDense);\n",
      "   BLAS::sgemm_(&op_0_transB, &op_0_transA, &op_0_n, &op_0_m, &op_0_k, &op_0_alpha, tensor_densekernel0, &op_0_ldb, tensor_denseinput, &op_0_lda, &op_0_beta, tensor_denseDense, &op_0_n);\n",
      "\n",
      "//------ RELU\n",
      "   for (int id = 0; id < 64 ; id++){\n",
      "      tensor_denseRelu0[id] = ((tensor_denseDense[id] > 0 )? tensor_denseDense[id] : 0);\n",
      "   }\n",
      "\n",
      "//--------- Gemm\n",
      "   char op_2_transA = 'n';\n",
      "   char op_2_transB = 'n';\n",
      "   int op_2_m = 1;\n",
      "   int op_2_n = 64;\n",
      "   int op_2_k = 64;\n",
      "   float op_2_alpha = 1;\n",
      "   float op_2_beta = 1;\n",
      "   int op_2_lda = 64;\n",
      "   int op_2_ldb = 64;\n",
      "   std::copy(tensor_dense1bias0bcast, tensor_dense1bias0bcast + 64, tensor_dense1Dense);\n",
      "   BLAS::sgemm_(&op_2_transB, &op_2_transA, &op_2_n, &op_2_m, &op_2_k, &op_2_alpha, tensor_dense1kernel0, &op_2_ldb, tensor_denseRelu0, &op_2_lda, &op_2_beta, tensor_dense1Dense, &op_2_n);\n",
      "\n",
      "//------ RELU\n",
      "   for (int id = 0; id < 64 ; id++){\n",
      "      tensor_dense1Relu0[id] = ((tensor_dense1Dense[id] > 0 )? tensor_dense1Dense[id] : 0);\n",
      "   }\n",
      "\n",
      "//--------- Gemm\n",
      "   char op_4_transA = 'n';\n",
      "   char op_4_transB = 'n';\n",
      "   int op_4_m = 1;\n",
      "   int op_4_n = 64;\n",
      "   int op_4_k = 64;\n",
      "   float op_4_alpha = 1;\n",
      "   float op_4_beta = 1;\n",
      "   int op_4_lda = 64;\n",
      "   int op_4_ldb = 64;\n",
      "   std::copy(tensor_dense2bias0bcast, tensor_dense2bias0bcast + 64, tensor_dense2Dense);\n",
      "   BLAS::sgemm_(&op_4_transB, &op_4_transA, &op_4_n, &op_4_m, &op_4_k, &op_4_alpha, tensor_dense2kernel0, &op_4_ldb, tensor_dense1Relu0, &op_4_lda, &op_4_beta, tensor_dense2Dense, &op_4_n);\n",
      "\n",
      "//------ RELU\n",
      "   for (int id = 0; id < 64 ; id++){\n",
      "      tensor_dense2Relu0[id] = ((tensor_dense2Dense[id] > 0 )? tensor_dense2Dense[id] : 0);\n",
      "   }\n",
      "\n",
      "//--------- Gemm\n",
      "   char op_6_transA = 'n';\n",
      "   char op_6_transB = 'n';\n",
      "   int op_6_m = 1;\n",
      "   int op_6_n = 64;\n",
      "   int op_6_k = 64;\n",
      "   float op_6_alpha = 1;\n",
      "   float op_6_beta = 1;\n",
      "   int op_6_lda = 64;\n",
      "   int op_6_ldb = 64;\n",
      "   std::copy(tensor_dense3bias0bcast, tensor_dense3bias0bcast + 64, tensor_dense3Dense);\n",
      "   BLAS::sgemm_(&op_6_transB, &op_6_transA, &op_6_n, &op_6_m, &op_6_k, &op_6_alpha, tensor_dense3kernel0, &op_6_ldb, tensor_dense2Relu0, &op_6_lda, &op_6_beta, tensor_dense3Dense, &op_6_n);\n",
      "\n",
      "//------ RELU\n",
      "   for (int id = 0; id < 64 ; id++){\n",
      "      tensor_dense3Relu0[id] = ((tensor_dense3Dense[id] > 0 )? tensor_dense3Dense[id] : 0);\n",
      "   }\n",
      "\n",
      "//--------- Gemm\n",
      "   char op_8_transA = 'n';\n",
      "   char op_8_transB = 'n';\n",
      "   int op_8_m = 1;\n",
      "   int op_8_n = 2;\n",
      "   int op_8_k = 64;\n",
      "   float op_8_alpha = 1;\n",
      "   float op_8_beta = 1;\n",
      "   int op_8_lda = 64;\n",
      "   int op_8_ldb = 2;\n",
      "   std::copy(tensor_dense4bias0bcast, tensor_dense4bias0bcast + 2, tensor_dense4Dense);\n",
      "   BLAS::sgemm_(&op_8_transB, &op_8_transA, &op_8_n, &op_8_m, &op_8_k, &op_8_alpha, tensor_dense4kernel0, &op_8_ldb, tensor_dense3Relu0, &op_8_lda, &op_8_beta, tensor_dense4Dense, &op_8_n);\n",
      "\tfor (int id = 0; id < 2 ; id++){\n",
      "\t\ttensor_dense4Sigmoid0[id] = 1 / (1 + std::exp( - tensor_dense4Dense[id]));\n",
      "\t}\n",
      "   std::vector<float> ret (tensor_dense4Sigmoid0, tensor_dense4Sigmoid0 + 2);\n",
      "   return ret;\n",
      "}\n",
      "};\n",
      "} //TMVA_SOFIE_Higgs_trained_model\n",
      "\n",
      "#endif  // TMVA_SOFIE_HIGGS_TRAINED_MODEL\n"
     ]
    }
   ],
   "source": [
    "model.PrintGenerated()"
   ]
  },
  {
   "cell_type": "markdown",
   "id": "6bc0667d",
   "metadata": {},
   "source": [
    "#### 2. Compile the generated model file"
   ]
  },
  {
   "cell_type": "code",
   "execution_count": 6,
   "id": "9a43b0e8",
   "metadata": {},
   "outputs": [
    {
     "name": "stdout",
     "output_type": "stream",
     "text": [
      "compiling SOFIE model  Higgs_trained_model\n"
     ]
    }
   ],
   "source": [
    "modelName = modelFile.replace(\".h5\",\"\")\n",
    "print(\"compiling SOFIE model \", modelName)\n",
    "ret = ROOT.gInterpreter.Declare('#include \"' + generatedHeaderFile + '\"')\n",
    "if not ret:\n",
    "    print(\"Error compiling header file \", generatedHeaderFile)\n",
    "    exit()"
   ]
  },
  {
   "cell_type": "markdown",
   "id": "23f07058",
   "metadata": {},
   "source": [
    "#### 3. Read input data in Numpy arrays"
   ]
  },
  {
   "cell_type": "code",
   "execution_count": 7,
   "id": "98776d24",
   "metadata": {},
   "outputs": [],
   "source": [
    "inputFileName = \"Higgs_data.root\"\n",
    "inputFile = \"http://root.cern.ch/files/\" + inputFileName"
   ]
  },
  {
   "cell_type": "markdown",
   "id": "5cbaaee8",
   "metadata": {},
   "source": [
    "Use RDataFrame -> Numpy "
   ]
  },
  {
   "cell_type": "code",
   "execution_count": 8,
   "id": "fb20723b",
   "metadata": {},
   "outputs": [],
   "source": [
    "df1 = ROOT.RDataFrame(\"sig_tree\", inputFile)\n",
    "sigData = df1.AsNumpy(columns=['m_jj', 'm_jjj', 'm_lv', 'm_jlv', 'm_bb', 'm_wbb', 'm_wwbb'])"
   ]
  },
  {
   "cell_type": "code",
   "execution_count": 9,
   "id": "d442b7d8",
   "metadata": {},
   "outputs": [
    {
     "name": "stdout",
     "output_type": "stream",
     "text": [
      "{'m_jj': ndarray([1.35376   , 0.3022199 , 0.90975326, ..., 0.7873357 , 0.9221176 ,\n",
      "         0.7312851 ], dtype=float32), 'm_jjj': ndarray([0.9795631 , 0.83304816, 1.1083305 , ..., 0.97868377, 1.0380867 ,\n",
      "         1.0617054 ], dtype=float32), 'm_lv': ndarray([0.97807616, 0.98569965, 0.9856922 , ..., 0.98237854, 0.98750263,\n",
      "         1.0720345 ], dtype=float32), 'm_jlv': ndarray([0.92000484, 0.9780984 , 0.95133126, ..., 1.1715132 , 0.9512442 ,\n",
      "         0.78194284], dtype=float32), 'm_bb': ndarray([0.72165745, 0.77973217, 0.8032515 , ..., 0.9685302 , 0.46553683,\n",
      "         0.87044066], dtype=float32), 'm_wbb': ndarray([0.98875093, 0.99235576, 0.8659244 , ..., 0.9312682 , 0.80048835,\n",
      "         1.1141888 ], dtype=float32), 'm_wwbb': ndarray([0.87667835, 0.7983426 , 0.7801176 , ..., 0.91213906, 0.80058527,\n",
      "         0.9691252 ], dtype=float32)}\n"
     ]
    }
   ],
   "source": [
    "print(sigData)"
   ]
  },
  {
   "cell_type": "markdown",
   "id": "1549f8e5",
   "metadata": {},
   "source": [
    "#### 4. Perform SOFIE inference from numpy arrays"
   ]
  },
  {
   "cell_type": "markdown",
   "id": "70665e67",
   "metadata": {},
   "source": [
    "Create SOFIE session class"
   ]
  },
  {
   "cell_type": "code",
   "execution_count": 10,
   "id": "d5bfda4f",
   "metadata": {},
   "outputs": [],
   "source": [
    "session = ROOT.TMVA_SOFIE_Higgs_trained_model.Session()"
   ]
  },
  {
   "cell_type": "markdown",
   "id": "94bd750c",
   "metadata": {},
   "source": [
    "Perform inference on single event (It could be done on a batch of events)."
   ]
  },
  {
   "cell_type": "code",
   "execution_count": 11,
   "id": "038b2af0",
   "metadata": {},
   "outputs": [
    {
     "name": "stdout",
     "output_type": "stream",
     "text": [
      "(10000, 7)\n"
     ]
    }
   ],
   "source": [
    "xsig = np.column_stack(list(sigData.values()))\n",
    "print(xsig.shape)"
   ]
  },
  {
   "cell_type": "code",
   "execution_count": 12,
   "id": "5262c791",
   "metadata": {},
   "outputs": [
    {
     "name": "stdout",
     "output_type": "stream",
     "text": [
      "size of data 10000\n"
     ]
    }
   ],
   "source": [
    "dataset_size = xsig.shape[0]\n",
    "print(\"size of data\", dataset_size)"
   ]
  },
  {
   "cell_type": "code",
   "execution_count": 13,
   "id": "07d8b19e",
   "metadata": {},
   "outputs": [
    {
     "name": "stdout",
     "output_type": "stream",
     "text": [
      "[1.35376    0.9795631  0.97807616 0.92000484 0.72165745 0.98875093\n",
      " 0.87667835]\n"
     ]
    }
   ],
   "source": [
    "print(xsig[0,:])"
   ]
  },
  {
   "cell_type": "code",
   "execution_count": 14,
   "id": "7b12228a",
   "metadata": {},
   "outputs": [],
   "source": [
    "hs = ROOT.TH1D(\"hs\",\"Signal result\",100,0,1)\n",
    "for i in range(0,dataset_size):\n",
    "    result = session.infer(xsig[i,:])\n",
    "    hs.Fill(result[0])"
   ]
  },
  {
   "cell_type": "markdown",
   "id": "b82e0ad7",
   "metadata": {},
   "source": [
    "#### 5. Evaluate model also on background data"
   ]
  },
  {
   "cell_type": "code",
   "execution_count": 15,
   "id": "4cb25775",
   "metadata": {},
   "outputs": [],
   "source": [
    "# make SOFIE inference on background data\n",
    "df2 = ROOT.RDataFrame(\"bkg_tree\", inputFile)\n",
    "bkgData = df2.AsNumpy(columns=['m_jj', 'm_jjj', 'm_lv', 'm_jlv', 'm_bb', 'm_wbb', 'm_wwbb'])\n",
    "xbkg = np.column_stack(list(bkgData.values()))\n",
    "\n",
    "\n",
    "hb = ROOT.TH1D(\"hb\",\"Background result\",100,0,1)\n",
    "dataset_size = xbkg.shape[0]\n",
    "for i in range(0,dataset_size):\n",
    "    result = session.infer(xbkg[i,:])\n",
    "    hb.Fill(result[0])\n"
   ]
  },
  {
   "cell_type": "markdown",
   "id": "780f24f5",
   "metadata": {},
   "source": [
    "#### 6. Plot Results"
   ]
  },
  {
   "cell_type": "code",
   "execution_count": 16,
   "id": "92760ba4",
   "metadata": {},
   "outputs": [
    {
     "data": {
      "image/png": "[encoded data removed]",
      "text/plain": [
       "<IPython.core.display.Image object>"
      ]
     },
     "metadata": {},
     "output_type": "display_data"
    }
   ],
   "source": [
    "c1 = ROOT.TCanvas()\n",
    "ROOT.gStyle.SetOptStat(0)\n",
    "hs.SetLineColor(ROOT.kRed)\n",
    "hb.SetLineColor(ROOT.kBlue)\n",
    "hb.Draw()\n",
    "hs.Draw(\"SAME\")\n",
    "c1.BuildLegend()\n",
    "c1.Draw()"
   ]
  },
  {
   "cell_type": "code",
   "execution_count": null,
   "id": "45070b89",
   "metadata": {},
   "outputs": [],
   "source": []
  }
 ],
 "metadata": {
  "kernelspec": {
   "display_name": "Python 3 (ipykernel)",
   "language": "python",
   "name": "python3"
  },
  "language_info": {
   "codemirror_mode": {
    "name": "ipython",
    "version": 3
   },
   "file_extension": ".py",
   "mimetype": "text/x-python",
   "name": "python",
   "nbconvert_exporter": "python",
   "pygments_lexer": "ipython3",
   "version": "3.8.9"
  }
 },
 "nbformat": 4,
 "nbformat_minor": 5
}
