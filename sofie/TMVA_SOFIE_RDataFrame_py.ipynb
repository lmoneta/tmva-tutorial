{
 "cells": [
  {
   "cell_type": "markdown",
   "id": "5082e0fa",
   "metadata": {},
   "source": [
    "## Using SOFIE with RDataFrame in Python\n",
    "\n",
    "Notebook derived from the tutorial [TMVA_SOFIE_RDataFrame.py](https://root.cern.ch/doc/master/TMVA__SOFIE__RDataFrame_8py.html)\n",
    "\n",
    "In this example we are going to start from the Keras input model file and use SOFIE and then the ROOT JIT to compile the model."
   ]
  },
  {
   "cell_type": "code",
   "execution_count": null,
   "id": "9d24c8ff",
   "metadata": {},
   "outputs": [],
   "source": [
    "import ROOT"
   ]
  },
  {
   "cell_type": "code",
   "execution_count": null,
   "id": "47c104c1",
   "metadata": {},
   "outputs": [],
   "source": [
    "modelFile = \"Higgs_trained_model.h5\"\n",
    "if (ROOT.gSystem.AccessPathName(modelFile)) :\n",
    "    ROOT.Info(\"TMVA_SOFIE_RDataFrame\",\"You need to run TMVA_Higgs_Classification to generate the Keras trained model\")\n",
    "    exit()\n"
   ]
  },
  {
   "cell_type": "markdown",
   "id": "e23de980",
   "metadata": {},
   "source": [
    "### Parse input file (directly from Keras)\n",
    "\n",
    "Parse the input file using the direct Keras to RModel converter"
   ]
  },
  {
   "cell_type": "code",
   "execution_count": null,
   "id": "e67def72",
   "metadata": {},
   "outputs": [],
   "source": [
    "# parse the input Keras model into RModel object\n",
    "model = ROOT.TMVA.Experimental.SOFIE.PyKeras.Parse(modelFile)"
   ]
  },
  {
   "cell_type": "code",
   "execution_count": null,
   "id": "61036208",
   "metadata": {},
   "outputs": [],
   "source": [
    "#Generating inference code\n",
    "model.Generate()\n",
    "model.OutputGenerated()\n",
    "model.PrintGenerated()"
   ]
  },
  {
   "cell_type": "markdown",
   "id": "25e65119",
   "metadata": {},
   "source": [
    "### Compile generated model using ROOT JIT"
   ]
  },
  {
   "cell_type": "code",
   "execution_count": null,
   "id": "c42a77c8",
   "metadata": {},
   "outputs": [],
   "source": [
    "# now compile using ROOT JIT trained model\n",
    "print(\"compiling SOFIE model and functor....\")\n",
    "generatedFile = \"Higgs_trained_model.hxx\"\n",
    "modelName = \"Higgs_trained_model\"\n",
    "ROOT.gInterpreter.Declare('#include \"' + generatedFile + '\"')\n",
    "ROOT.gInterpreter.Declare('auto sofie_functor = TMVA::Experimental::SofieFunctor<7,TMVA_SOFIE_'+modelName+'::Session>(0);')\n"
   ]
  },
  {
   "cell_type": "markdown",
   "id": "4be44997",
   "metadata": {},
   "source": [
    "### Use model with RDataFrame"
   ]
  },
  {
   "cell_type": "code",
   "execution_count": null,
   "id": "85f1efbe",
   "metadata": {},
   "outputs": [],
   "source": [
    "inputFile = \"http://root.cern.ch/files/Higgs_data.root\""
   ]
  },
  {
   "cell_type": "code",
   "execution_count": null,
   "id": "19860976",
   "metadata": {},
   "outputs": [],
   "source": [
    "df1 = ROOT.RDataFrame(\"sig_tree\", inputFile)\n",
    "h1 = df1.Define(\"DNN_Value\", \"sofie_functor(rdfslot_,m_jj, m_jjj, m_lv, m_jlv, m_bb, m_wbb, m_wwbb)\").Histo1D((\"h_sig\", \"\", 100, 0, 1),\"DNN_Value\")\n",
    "\n",
    "df2 = ROOT.RDataFrame(\"bkg_tree\", inputFile)\n",
    "h2 = df2.Define(\"DNN_Value\", \"sofie_functor(rdfslot_,m_jj, m_jjj, m_lv, m_jlv, m_bb, m_wbb, m_wwbb)\").Histo1D((\"h_bkg\", \"\", 100, 0, 1),\"DNN_Value\")"
   ]
  },
  {
   "cell_type": "code",
   "execution_count": null,
   "id": "4e203dd4",
   "metadata": {},
   "outputs": [],
   "source": [
    "h1.SetLineColor(ROOT.kRed)\n",
    "h2.SetLineColor(ROOT.kBlue)\n",
    "\n",
    "c1 = ROOT.TCanvas()\n",
    "ROOT.gStyle.SetOptStat(0)\n",
    "\n",
    "h2.Draw()\n",
    "h1.Draw(\"SAME\")\n",
    "c1.Draw()"
   ]
  },
  {
   "cell_type": "code",
   "execution_count": null,
   "id": "7b5b524b",
   "metadata": {},
   "outputs": [],
   "source": []
  }
 ],
 "metadata": {
  "kernelspec": {
   "display_name": "Python 3 (ipykernel)",
   "language": "python",
   "name": "python3"
  },
  "language_info": {
   "codemirror_mode": {
    "name": "ipython",
    "version": 3
   },
   "file_extension": ".py",
   "mimetype": "text/x-python",
   "name": "python",
   "nbconvert_exporter": "python",
   "pygments_lexer": "ipython3",
   "version": "3.8.9"
  }
 },
 "nbformat": 4,
 "nbformat_minor": 5
}
