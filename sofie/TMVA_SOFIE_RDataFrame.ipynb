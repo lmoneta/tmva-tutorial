{
 "cells": [
  {
   "cell_type": "markdown",
   "id": "e2b2ddb8",
   "metadata": {},
   "source": [
    "## Using SOFIE with RDataFrame\n",
    "\n",
    "Notebook derived from the tutorial [TMVA_SOFIE_RDataFrame.C](https://root.cern.ch/doc/master/TMVA__SOFIE__RDataFrame_8C.html)"
   ]
  },
  {
   "cell_type": "code",
   "execution_count": null,
   "id": "78fb1ca5",
   "metadata": {},
   "outputs": [],
   "source": [
    "#include \"Higgs_model.hxx\""
   ]
  },
  {
   "cell_type": "code",
   "execution_count": null,
   "id": "3396c377",
   "metadata": {},
   "outputs": [],
   "source": [
    "// for using SofieFunctor \n",
    "#include \"TMVA/SOFIEHelpers.hxx\"\n",
    "using namespace TMVA::Experimental;"
   ]
  },
  {
   "cell_type": "code",
   "execution_count": null,
   "id": "be2aafa2",
   "metadata": {},
   "outputs": [],
   "source": [
    "std::string inputFile = \"http://root.cern.ch/files/Higgs_data.root\";"
   ]
  },
  {
   "cell_type": "code",
   "execution_count": null,
   "id": "3ad298ac",
   "metadata": {},
   "outputs": [],
   "source": [
    "ROOT::RDataFrame df1(\"sig_tree\", inputFile);"
   ]
  },
  {
   "cell_type": "code",
   "execution_count": null,
   "id": "38ef1971",
   "metadata": {},
   "outputs": [],
   "source": [
    "disp = df1.Display();\n",
    "disp->Print();"
   ]
  },
  {
   "cell_type": "code",
   "execution_count": null,
   "id": "83208629",
   "metadata": {},
   "outputs": [],
   "source": [
    "df1.GetColumnNames()"
   ]
  },
  {
   "cell_type": "markdown",
   "id": "a6562c51",
   "metadata": {},
   "source": [
    "Use given number of slots of RDataFrame, by default is number of threads of the machine"
   ]
  },
  {
   "cell_type": "code",
   "execution_count": null,
   "id": "a49e4943",
   "metadata": {},
   "outputs": [],
   "source": [
    "int nslots = df1.GetNSlots()"
   ]
  },
  {
   "cell_type": "markdown",
   "id": "d9b1f369",
   "metadata": {},
   "source": [
    "#### Use SofieFunctor for adapting SOFIE inference to RDataFrame\n",
    "\n",
    "See definition of SofieFunctor in [TMVA/SOFIEHelpers.hxx](https://github.com/lmoneta/root/blob/tmva_sofie_functor/tmva/sofie/inc/TMVA/SOFIEHelpers.hxx)"
   ]
  },
  {
   "cell_type": "code",
   "execution_count": null,
   "id": "30f3853d",
   "metadata": {},
   "outputs": [],
   "source": [
    "auto h1 = df1.DefineSlot(\"DNN_Value\", SofieFunctor<7, TMVA_SOFIE_Higgs_model::Session>(nslots),\n",
    "                            {\"m_jj\", \"m_jjj\", \"m_lv\", \"m_jlv\", \"m_bb\", \"m_wbb\", \"m_wwbb\"})\n",
    "                .Histo1D({\"h_sig\", \"\", 100, 0, 1}, \"DNN_Value\");"
   ]
  },
  {
   "cell_type": "code",
   "execution_count": null,
   "id": "58de54d1",
   "metadata": {},
   "outputs": [],
   "source": [
    "h1->GetEntries()\n"
   ]
  },
  {
   "cell_type": "code",
   "execution_count": null,
   "id": "542104d7",
   "metadata": {},
   "outputs": [],
   "source": [
    "h1->Draw();\n",
    "gPad->Draw();"
   ]
  },
  {
   "cell_type": "code",
   "execution_count": null,
   "id": "bf92bb2a",
   "metadata": {},
   "outputs": [],
   "source": [
    "ROOT::RDataFrame df2(\"bkg_tree\", inputFile);"
   ]
  },
  {
   "cell_type": "code",
   "execution_count": null,
   "id": "410f0128",
   "metadata": {},
   "outputs": [],
   "source": [
    "auto h2 = df2.DefineSlot(\"DNN_Value\", SofieFunctor<7, TMVA_SOFIE_Higgs_model::Session>(nslots),\n",
    "                            {\"m_jj\", \"m_jjj\", \"m_lv\", \"m_jlv\", \"m_bb\", \"m_wbb\", \"m_wwbb\"})\n",
    "                .Histo1D({\"h_bkg\", \"\", 100, 0, 1}, \"DNN_Value\");"
   ]
  },
  {
   "cell_type": "code",
   "execution_count": null,
   "id": "739586b4",
   "metadata": {},
   "outputs": [],
   "source": [
    "h2->Draw();\n",
    "gPad->Draw(); "
   ]
  },
  {
   "cell_type": "code",
   "execution_count": null,
   "id": "bb441288",
   "metadata": {},
   "outputs": [],
   "source": [
    "c1 = new TCanvas();\n",
    "h1->SetLineColor(kRed);\n",
    "h2->SetLineColor(kBlue);\n",
    "h2->Draw();\n",
    "h1->Draw(\"SAME\");\n",
    "c1->Draw();"
   ]
  },
  {
   "cell_type": "code",
   "execution_count": null,
   "id": "95bf5af4",
   "metadata": {},
   "outputs": [],
   "source": []
  }
 ],
 "metadata": {
  "kernelspec": {
   "display_name": "ROOT C++",
   "language": "c++",
   "name": "root"
  },
  "language_info": {
   "codemirror_mode": "text/x-c++src",
   "file_extension": ".C",
   "mimetype": " text/x-c++src",
   "name": "c++"
  }
 },
 "nbformat": 4,
 "nbformat_minor": 5
}
