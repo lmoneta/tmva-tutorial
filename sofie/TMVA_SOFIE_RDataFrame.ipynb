{
 "cells": [
  {
   "cell_type": "markdown",
   "id": "e2b2ddb8",
   "metadata": {},
   "source": [
    "## Using SOFIE with RDataFrame"
   ]
  },
  {
   "cell_type": "code",
   "execution_count": 15,
   "id": "78fb1ca5",
   "metadata": {},
   "outputs": [
    {
     "name": "stderr",
     "output_type": "stream",
     "text": [
      "In file included from input_line_120:1:\n",
      "\u001b[1m./Higgs_model.hxx:16:8: \u001b[0m\u001b[0;1;31merror: \u001b[0m\u001b[1mredefinition of 'Session'\u001b[0m\n",
      "struct Session {\n",
      "\u001b[0;1;32m       ^\n",
      "\u001b[0m\u001b[1minput_line_42:1:10: \u001b[0m\u001b[0;1;30mnote: \u001b[0m'./Higgs_model.hxx' included multiple times, additional include site here\u001b[0m\n",
      "#include \"Higgs_model.hxx\"\n",
      "\u001b[0;1;32m         ^\n",
      "\u001b[0m\u001b[1minput_line_120:1:10: \u001b[0m\u001b[0;1;30mnote: \u001b[0m'./Higgs_model.hxx' included multiple times, additional include site here\u001b[0m\n",
      "#include \"Higgs_model.hxx\"\n",
      "\u001b[0;1;32m         ^\n",
      "\u001b[0m\u001b[1m./Higgs_model.hxx:16:8: \u001b[0m\u001b[0;1;30mnote: \u001b[0munguarded header; consider using #ifdef guards or #pragma once\u001b[0m\n",
      "struct Session {\n",
      "\u001b[0;1;32m       ^\n",
      "\u001b[0m"
     ]
    }
   ],
   "source": [
    "#include \"Higgs_model.hxx\""
   ]
  },
  {
   "cell_type": "code",
   "execution_count": 16,
   "id": "3396c377",
   "metadata": {},
   "outputs": [],
   "source": [
    "// for using SofieFunctor \n",
    "#include \"TMVA/SOFIEHelpers.hxx\"\n",
    "using namespace TMVA::Experimental;"
   ]
  },
  {
   "cell_type": "code",
   "execution_count": 17,
   "id": "be2aafa2",
   "metadata": {},
   "outputs": [],
   "source": [
    "std::string inputFile = \"http://root.cern.ch/files/Higgs_data.root\";"
   ]
  },
  {
   "cell_type": "code",
   "execution_count": 18,
   "id": "3ad298ac",
   "metadata": {},
   "outputs": [],
   "source": [
    "ROOT::RDataFrame df1(\"sig_tree\", inputFile);"
   ]
  },
  {
   "cell_type": "code",
   "execution_count": 19,
   "id": "38ef1971",
   "metadata": {},
   "outputs": [
    {
     "name": "stdout",
     "output_type": "stream",
     "text": [
      "+-----+----------+------------+------------+------------+-----------+------------+------------+-----+\n",
      "| Row | Type     | jet1_b-tag | jet1_eta   | jet1_phi   | jet1_pt   | jet2_b-tag | jet2_eta   | ... | \n",
      "+-----+----------+------------+------------+------------+-----------+------------+------------+-----+\n",
      "| 0   | 1.00000f | 0.00000f   | -0.248573f | -1.09206f  | 0.754202f | 1.10744f   | -0.653674f | ... | \n",
      "+-----+----------+------------+------------+------------+-----------+------------+------------+-----+\n",
      "| 1   | 1.00000f | 2.17308f   | -0.557525f | -1.58823f  | 1.09553f  | 2.21487f   | -0.213642f | ... | \n",
      "+-----+----------+------------+------------+------------+-----------+------------+------------+-----+\n",
      "| 2   | 1.00000f | 0.00000f   | 1.28232f   | 1.38166f   | 1.10487f  | 2.21487f   | 1.54066f   | ... | \n",
      "+-----+----------+------------+------------+------------+-----------+------------+------------+-----+\n",
      "| 3   | 1.00000f | 0.00000f   | -1.07046f  | -0.921871f | 0.681466f | 2.21487f   | 1.02097f   | ... | \n",
      "+-----+----------+------------+------------+------------+-----------+------------+------------+-----+\n",
      "| 4   | 1.00000f | 2.17308f   | 0.0554274f | 0.0134659f | 1.33801f  | 0.00000f   | -1.03834f  | ... | \n",
      "+-----+----------+------------+------------+------------+-----------+------------+------------+-----+\n"
     ]
    },
    {
     "name": "stderr",
     "output_type": "stream",
     "text": [
      "Info in <Print>: Only showing 8 columns out of 30\n",
      "\n"
     ]
    }
   ],
   "source": [
    "disp = df1.Display();\n",
    "disp->Print();"
   ]
  },
  {
   "cell_type": "code",
   "execution_count": 20,
   "id": "83208629",
   "metadata": {},
   "outputs": [
    {
     "name": "stdout",
     "output_type": "stream",
     "text": [
      "(ROOT::RDF::ColumnNames_t) { \"Type\", \"jet1_b-tag\", \"jet1_eta\", \"jet1_phi\", \"jet1_pt\", \"jet2_b-tag\", \"jet2_eta\", \"jet2_phi\", \"jet2_pt\", \"jet3_b-tag\", \"jet3_eta\", \"jet3_phi\", \"jet3_pt\", \"jet4_b-tag\", \"jet4_eta\", \"jet4_phi\", \"jet4_pt\", \"lepton_eta\", \"lepton_pT\", \"lepton_phi\", \"m_bb\", \"m_jj\", \"m_jjj\", \"m_jlv\", \"m_lv\", \"m_wbb\", \"m_wwbb\", \"missing_energy_magnitude\", \"missing_energy_phi\" }\n"
     ]
    }
   ],
   "source": [
    "df1.GetColumnNames()"
   ]
  },
  {
   "cell_type": "markdown",
   "id": "a6562c51",
   "metadata": {},
   "source": [
    "Use given number of slots of RDataFrame, by default is number of threads of the machine"
   ]
  },
  {
   "cell_type": "code",
   "execution_count": 21,
   "id": "a49e4943",
   "metadata": {},
   "outputs": [
    {
     "name": "stdout",
     "output_type": "stream",
     "text": [
      "(int) 1\n"
     ]
    }
   ],
   "source": [
    "int nslots = df1.GetNSlots()"
   ]
  },
  {
   "cell_type": "markdown",
   "id": "d9b1f369",
   "metadata": {},
   "source": [
    "#### Use SofieFunctor for adapting SOFIE inference to RDataFrame\n",
    "\n",
    "See definition of SofieFunctor in [TMVA/SOFIEHelpers.hxx](https://github.com/lmoneta/root/blob/tmva_sofie_functor/tmva/sofie/inc/TMVA/SOFIEHelpers.hxx)"
   ]
  },
  {
   "cell_type": "code",
   "execution_count": 22,
   "id": "30f3853d",
   "metadata": {},
   "outputs": [],
   "source": [
    "auto h1 = df1.DefineSlot(\"DNN_Value\", SofieFunctor<7, TMVA_SOFIE_Higgs_model::Session>(nslots),\n",
    "                            {\"m_jj\", \"m_jjj\", \"m_lv\", \"m_jlv\", \"m_bb\", \"m_wbb\", \"m_wwbb\"})\n",
    "                .Histo1D({\"h_sig\", \"\", 100, 0, 1}, \"DNN_Value\");"
   ]
  },
  {
   "cell_type": "code",
   "execution_count": 23,
   "id": "58de54d1",
   "metadata": {},
   "outputs": [
    {
     "name": "stdout",
     "output_type": "stream",
     "text": [
      "(double) 10000.000\n"
     ]
    }
   ],
   "source": [
    "h1->GetEntries()\n"
   ]
  },
  {
   "cell_type": "code",
   "execution_count": 24,
   "id": "542104d7",
   "metadata": {},
   "outputs": [
    {
     "data": {
      "image/png": "[encoded data removed]",
      "text/plain": [
       "<IPython.core.display.Image object>"
      ]
     },
     "metadata": {},
     "output_type": "display_data"
    }
   ],
   "source": [
    "h1->Draw();\n",
    "gPad->Draw();"
   ]
  },
  {
   "cell_type": "code",
   "execution_count": 25,
   "id": "bf92bb2a",
   "metadata": {},
   "outputs": [],
   "source": [
    "ROOT::RDataFrame df2(\"bkg_tree\", inputFile);"
   ]
  },
  {
   "cell_type": "code",
   "execution_count": 26,
   "id": "410f0128",
   "metadata": {},
   "outputs": [],
   "source": [
    "auto h2 = df2.DefineSlot(\"DNN_Value\", SofieFunctor<7, TMVA_SOFIE_Higgs_model::Session>(nslots),\n",
    "                            {\"m_jj\", \"m_jjj\", \"m_lv\", \"m_jlv\", \"m_bb\", \"m_wbb\", \"m_wwbb\"})\n",
    "                .Histo1D({\"h_bkg\", \"\", 100, 0, 1}, \"DNN_Value\");"
   ]
  },
  {
   "cell_type": "code",
   "execution_count": 27,
   "id": "739586b4",
   "metadata": {},
   "outputs": [
    {
     "data": {
      "image/png": "[encoded data removed]",
      "text/plain": [
       "<IPython.core.display.Image object>"
      ]
     },
     "metadata": {},
     "output_type": "display_data"
    }
   ],
   "source": [
    "h2->Draw();\n",
    "gPad->Draw(); "
   ]
  },
  {
   "cell_type": "code",
   "execution_count": 28,
   "id": "bb441288",
   "metadata": {},
   "outputs": [
    {
     "data": {
      "image/png": "[encoded data removed]",
      "text/plain": [
       "<IPython.core.display.Image object>"
      ]
     },
     "metadata": {},
     "output_type": "display_data"
    }
   ],
   "source": [
    "c1 = new TCanvas();\n",
    "h1->SetLineColor(kRed);\n",
    "h2->SetLineColor(kBlue);\n",
    "h2->Draw();\n",
    "h1->Draw(\"SAME\");\n",
    "c1->Draw();"
   ]
  },
  {
   "cell_type": "code",
   "execution_count": null,
   "id": "95bf5af4",
   "metadata": {},
   "outputs": [],
   "source": []
  }
 ],
 "metadata": {
  "kernelspec": {
   "display_name": "ROOT C++",
   "language": "c++",
   "name": "root"
  },
  "language_info": {
   "codemirror_mode": "text/x-c++src",
   "file_extension": ".C",
   "mimetype": " text/x-c++src",
   "name": "c++"
  }
 },
 "nbformat": 4,
 "nbformat_minor": 5
}
